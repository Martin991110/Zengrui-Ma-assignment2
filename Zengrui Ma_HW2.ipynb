{
 "cells": [
  {
   "cell_type": "code",
   "execution_count": 6,
   "id": "1be96a70",
   "metadata": {},
   "outputs": [],
   "source": [
    "import numpy as np\n",
    "import random\n",
    "from tqdm import tqdm\n",
    "import statsmodels.api as sm"
   ]
  },
  {
   "cell_type": "code",
   "execution_count": 7,
   "id": "5323a14a",
   "metadata": {},
   "outputs": [],
   "source": [
    "def fn_generate_cov(dim):\n",
    "    acc  = []\n",
    "    for i in range(dim):\n",
    "        row = np.ones((1,dim)) * corr\n",
    "        row[0][i] = 1\n",
    "        acc.append(row)\n",
    "    return np.concatenate(acc,axis=0)\n",
    "\n",
    "# Generate all Covariates X variable\n",
    "def fn_generate_multnorm(nobs, corr, nvar):\n",
    "    std = (np.abs(np.random.normal(loc = 1, scale = 0.5,size = (nvar,1))))**(1/2)\n",
    "    acc = []\n",
    "    for i in range(nvar):\n",
    "        acc.append(np.reshape(np.random.normal(0,std[i],nobs),(nobs,1)))\n",
    "    \n",
    "    normvars = np.concatenate(acc,axis=1)\n",
    "    cov = fn_generate_cov(nvar)\n",
    "    c = np.linalg.cholesky(cov)\n",
    "    X = np.transpose(np.dot(c,np.transpose(normvars)))\n",
    "    return X\n",
    "\n",
    "# Generate Confounder variable C\n",
    "def fn_randomize_conf(nobs):\n",
    "    conf = np.reshape(np.random.normal(4,2,nobs),(nobs,1))\n",
    "    return conf\n",
    "\n",
    "# Generate Treatment variable T\n",
    "def fn_randomize_treatment(nobs,C):\n",
    "    T = []\n",
    "    if conf==False:\n",
    "        for i in range(nobs):\n",
    "            t = np.random.choice(np.arange(0, 2), p=[0.5, 0.5])\n",
    "            T.append(t)\n",
    "    if conf==True:\n",
    "        for i in range(nobs):\n",
    "            t = np.random.choice(np.arange(0, 2), p=[0.5-0.025*float(C[i]), 0.5+0.025*float(C[i])])\n",
    "            T.append(t)\n",
    "    return np.reshape(T,(nobs,1))\n",
    "\n",
    "# Generate Variable between the path from the treatment to the outcome S\n",
    "def fn_randomize_s(nobs,T):\n",
    "    S = []\n",
    "    for i in range(nobs):\n",
    "        s = np.random.choice(np.arange(0, 2), p=[0.5-0.1*float(T[i]), 0.5+0.1*float(T[i])])\n",
    "        S.append(s)\n",
    "    return np.reshape(S,(nobs,1))\n",
    "\n",
    "# Generate Data\n",
    "def fn_generate_data(tau,N,p,corr,conf,sv):\n",
    "\n",
    "    if conf==False:\n",
    "        conf_mult = 0 \n",
    "    if conf==True:\n",
    "        conf_mult = 1\n",
    "    if sv==False:\n",
    "        s_mult = 0\n",
    "    if sv==True:\n",
    "        s_mult = 1\n",
    "    \n",
    "    X = fn_generate_multnorm(N,corr,p)\n",
    "    C = fn_randomize_conf(N)\n",
    "    T = fn_randomize_treatment(N,C)\n",
    "    S = fn_randomize_s(N,T)\n",
    "    err = np.random.normal(0,1,[N,1])\n",
    "    beta0 = np.random.normal(5,5,[p,1])\n",
    "    \n",
    "    Yab = tau*T+X@beta0+conf_mult*0.6*C+s_mult*1*S+err\n",
    "        \n",
    "    if conf==False and sv==False:\n",
    "        return (Yab,T,X)   \n",
    "    if conf==True and sv==False:\n",
    "        return (Yab,T,X,C)\n",
    "    if conf==False and sv==True:\n",
    "        return (Yab,T,X,S)    \n",
    "    if conf==True and sv==True:\n",
    "        return (Yab,T,X,C,S) \n",
    "\n",
    "def fn_tauhat_means(Yt,Yc):\n",
    "    nt = len(Yt)\n",
    "    nc = len(Yc)\n",
    "    tauhat = np.mean(Yt)-np.mean(Yc)\n",
    "    se_tauhat = (np.var(Yt,ddof=1)/nt+np.var(Yc,ddof=1)/nc)**(1/2)\n",
    "    return (tauhat,se_tauhat)\n",
    "\n",
    "# Return estimate tauhats and sehats\n",
    "def fn_get_estimate(tau,Nrange,p,corr,conf,sv,control_conf,control_flagX,control_s):\n",
    "\n",
    "    tauhats = []\n",
    "    sehats = []\n",
    "    for r in tqdm(Nrange):\n",
    "        if conf==False and sv==False:\n",
    "            if control_flagX==False:\n",
    "                Yexp,T,X = fn_generate_data(tau,N,p,corr,conf,sv)\n",
    "                Yt = Yexp[np.where(T==1)[0],:]\n",
    "                Yc = Yexp[np.where(T==0)[0],:]\n",
    "                tauhat,se_tauhat = fn_tauhat_means(Yt,Yc)            \n",
    "            if control_flagX==True:\n",
    "                Yexp,T,X = fn_generate_data(tau,N,p,corr,conf,sv)\n",
    "                covars = np.concatenate([T,X],axis = 1)\n",
    "                mod = sm.OLS(Yexp,covars)\n",
    "                res = mod.fit()\n",
    "                tauhat = res.params[0]\n",
    "                se_tauhat = res.HC1_se[0]\n",
    "        if conf==True and sv==False:\n",
    "            if control_conf==False:\n",
    "                Yexp,T,X,C = fn_generate_data(tau,N,p,corr,conf,sv)\n",
    "                covars = np.concatenate([T,X],axis = 1)\n",
    "                mod = sm.OLS(Yexp,covars)\n",
    "                res = mod.fit()\n",
    "                tauhat = res.params[0]\n",
    "                se_tauhat = res.HC1_se[0]\n",
    "            if control_conf==True:\n",
    "                Yexp,T,X,C = fn_generate_data(tau,N,p,corr,conf,sv)\n",
    "                covars = np.concatenate([T,X,C],axis = 1)\n",
    "                mod = sm.OLS(Yexp,covars)\n",
    "                res = mod.fit()\n",
    "                tauhat = res.params[0]\n",
    "                se_tauhat = res.HC1_se[0]\n",
    "        if conf==False and sv==True:\n",
    "            if control_s==False:\n",
    "                Yexp,T,X,S = fn_generate_data(tau,N,p,corr,conf,sv)\n",
    "                covars = np.concatenate([T,X],axis = 1)\n",
    "                mod = sm.OLS(Yexp,covars)\n",
    "                res = mod.fit()\n",
    "                tauhat = res.params[0]\n",
    "                se_tauhat = res.HC1_se[0]\n",
    "            if control_s==True:\n",
    "                Yexp,T,X,S = fn_generate_data(tau,N,p,corr,conf,sv)\n",
    "                covars = np.concatenate([T,X,S],axis = 1)\n",
    "                mod = sm.OLS(Yexp,covars)\n",
    "                res = mod.fit()\n",
    "                tauhat = res.params[0]\n",
    "                se_tauhat = res.HC1_se[0]\n",
    "            \n",
    "        tauhats = tauhats + [tauhat]\n",
    "        sehats = sehats + [se_tauhat]          \n",
    "    return (tauhats,sehats)\n",
    "\n",
    "# Return bias,rmse,size of treatment effect estimate\n",
    "def fn_bias_rmse_size(theta0,thetahat,se_thetahat,cval = 1.96):\n",
    "    b = thetahat - theta0\n",
    "    bias = np.mean(b)\n",
    "    rmse = np.sqrt(np.mean(b**2))\n",
    "    tval = b/se_thetahat\n",
    "    size = np.mean(1*(np.abs(tval)>cval))\n",
    "    return (bias,rmse,size)"
   ]
  },
  {
   "cell_type": "code",
   "execution_count": 8,
   "id": "93aaa1b7",
   "metadata": {},
   "outputs": [],
   "source": [
    "import warnings\n",
    "warnings.filterwarnings('ignore')\n",
    "import pandas as pd\n",
    "import numpy as np\n",
    "import graphviz as gr"
   ]
  },
  {
   "cell_type": "markdown",
   "id": "8d790a5f",
   "metadata": {},
   "source": [
    "## 1. Simulate a DGP where the outcome of interest depends on a randomly assigned treatment and some observed covariates.\n",
    "\n",
    "#### $y_i = \\tau*T_i+\\beta'*X_i+e_i$"
   ]
  },
  {
   "cell_type": "markdown",
   "id": "8b3b33dc",
   "metadata": {},
   "source": [
    "##### 1.1 Simulate a DGP"
   ]
  },
  {
   "cell_type": "code",
   "execution_count": 9,
   "id": "716282ce",
   "metadata": {},
   "outputs": [
    {
     "data": {
      "text/html": [
       "<div>\n",
       "<style scoped>\n",
       "    .dataframe tbody tr th:only-of-type {\n",
       "        vertical-align: middle;\n",
       "    }\n",
       "\n",
       "    .dataframe tbody tr th {\n",
       "        vertical-align: top;\n",
       "    }\n",
       "\n",
       "    .dataframe thead th {\n",
       "        text-align: right;\n",
       "    }\n",
       "</style>\n",
       "<table border=\"1\" class=\"dataframe\">\n",
       "  <thead>\n",
       "    <tr style=\"text-align: right;\">\n",
       "      <th></th>\n",
       "      <th>Y</th>\n",
       "      <th>T</th>\n",
       "      <th>x1</th>\n",
       "      <th>x2</th>\n",
       "      <th>x3</th>\n",
       "    </tr>\n",
       "  </thead>\n",
       "  <tbody>\n",
       "    <tr>\n",
       "      <th>0</th>\n",
       "      <td>-4.770389</td>\n",
       "      <td>0.0</td>\n",
       "      <td>-0.633011</td>\n",
       "      <td>0.260157</td>\n",
       "      <td>1.580404</td>\n",
       "    </tr>\n",
       "    <tr>\n",
       "      <th>1</th>\n",
       "      <td>-1.588500</td>\n",
       "      <td>0.0</td>\n",
       "      <td>0.128565</td>\n",
       "      <td>-0.807417</td>\n",
       "      <td>-1.320712</td>\n",
       "    </tr>\n",
       "    <tr>\n",
       "      <th>2</th>\n",
       "      <td>-1.442788</td>\n",
       "      <td>0.0</td>\n",
       "      <td>0.036485</td>\n",
       "      <td>0.100050</td>\n",
       "      <td>0.589728</td>\n",
       "    </tr>\n",
       "    <tr>\n",
       "      <th>3</th>\n",
       "      <td>7.177118</td>\n",
       "      <td>1.0</td>\n",
       "      <td>0.702920</td>\n",
       "      <td>0.921045</td>\n",
       "      <td>1.384016</td>\n",
       "    </tr>\n",
       "    <tr>\n",
       "      <th>4</th>\n",
       "      <td>16.278818</td>\n",
       "      <td>0.0</td>\n",
       "      <td>-0.280786</td>\n",
       "      <td>1.083508</td>\n",
       "      <td>-1.164310</td>\n",
       "    </tr>\n",
       "    <tr>\n",
       "      <th>...</th>\n",
       "      <td>...</td>\n",
       "      <td>...</td>\n",
       "      <td>...</td>\n",
       "      <td>...</td>\n",
       "      <td>...</td>\n",
       "    </tr>\n",
       "    <tr>\n",
       "      <th>995</th>\n",
       "      <td>15.036237</td>\n",
       "      <td>0.0</td>\n",
       "      <td>1.534872</td>\n",
       "      <td>2.162643</td>\n",
       "      <td>2.566758</td>\n",
       "    </tr>\n",
       "    <tr>\n",
       "      <th>996</th>\n",
       "      <td>-1.897108</td>\n",
       "      <td>1.0</td>\n",
       "      <td>0.069672</td>\n",
       "      <td>-0.076384</td>\n",
       "      <td>0.853232</td>\n",
       "    </tr>\n",
       "    <tr>\n",
       "      <th>997</th>\n",
       "      <td>-5.419697</td>\n",
       "      <td>1.0</td>\n",
       "      <td>-1.244047</td>\n",
       "      <td>-0.221016</td>\n",
       "      <td>0.479760</td>\n",
       "    </tr>\n",
       "    <tr>\n",
       "      <th>998</th>\n",
       "      <td>9.318819</td>\n",
       "      <td>0.0</td>\n",
       "      <td>0.131696</td>\n",
       "      <td>0.978197</td>\n",
       "      <td>-0.005969</td>\n",
       "    </tr>\n",
       "    <tr>\n",
       "      <th>999</th>\n",
       "      <td>1.081249</td>\n",
       "      <td>0.0</td>\n",
       "      <td>0.334010</td>\n",
       "      <td>-0.495223</td>\n",
       "      <td>-0.938972</td>\n",
       "    </tr>\n",
       "  </tbody>\n",
       "</table>\n",
       "<p>1000 rows × 5 columns</p>\n",
       "</div>"
      ],
      "text/plain": [
       "             Y    T        x1        x2        x3\n",
       "0    -4.770389  0.0 -0.633011  0.260157  1.580404\n",
       "1    -1.588500  0.0  0.128565 -0.807417 -1.320712\n",
       "2    -1.442788  0.0  0.036485  0.100050  0.589728\n",
       "3     7.177118  1.0  0.702920  0.921045  1.384016\n",
       "4    16.278818  0.0 -0.280786  1.083508 -1.164310\n",
       "..         ...  ...       ...       ...       ...\n",
       "995  15.036237  0.0  1.534872  2.162643  2.566758\n",
       "996  -1.897108  1.0  0.069672 -0.076384  0.853232\n",
       "997  -5.419697  1.0 -1.244047 -0.221016  0.479760\n",
       "998   9.318819  0.0  0.131696  0.978197 -0.005969\n",
       "999   1.081249  0.0  0.334010 -0.495223 -0.938972\n",
       "\n",
       "[1000 rows x 5 columns]"
      ]
     },
     "execution_count": 9,
     "metadata": {},
     "output_type": "execute_result"
    }
   ],
   "source": [
    "tau = 3\n",
    "corr = .5\n",
    "conf = False\n",
    "sv = False\n",
    "p = 3\n",
    "N = 1000\n",
    "(Yab,T,X) = fn_generate_data(tau,N,p,corr,conf,sv)\n",
    "data1 = np.concatenate((Yab,T,X),axis=1)\n",
    "Data1 = pd.DataFrame(np.array(data1), columns=['Y','T','x1','x2','x3',])\n",
    "Data1"
   ]
  },
  {
   "cell_type": "markdown",
   "id": "857c03b3",
   "metadata": {},
   "source": [
    "##### 1.2 Illustrate the DGP with a DAG"
   ]
  },
  {
   "cell_type": "code",
   "execution_count": 10,
   "id": "53e63d84",
   "metadata": {},
   "outputs": [
    {
     "data": {
      "image/svg+xml": [
       "<?xml version=\"1.0\" encoding=\"UTF-8\" standalone=\"no\"?>\n",
       "<!DOCTYPE svg PUBLIC \"-//W3C//DTD SVG 1.1//EN\"\n",
       " \"http://www.w3.org/Graphics/SVG/1.1/DTD/svg11.dtd\">\n",
       "<!-- Generated by graphviz version 3.0.0 (20220226.1711)\n",
       " -->\n",
       "<!-- Pages: 1 -->\n",
       "<svg width=\"278pt\" height=\"116pt\"\n",
       " viewBox=\"0.00 0.00 278.00 116.00\" xmlns=\"http://www.w3.org/2000/svg\" xmlns:xlink=\"http://www.w3.org/1999/xlink\">\n",
       "<g id=\"graph0\" class=\"graph\" transform=\"scale(1 1) rotate(0) translate(4 112)\">\n",
       "<polygon fill=\"white\" stroke=\"transparent\" points=\"-4,4 -4,-112 274,-112 274,4 -4,4\"/>\n",
       "<!-- T -->\n",
       "<g id=\"node1\" class=\"node\">\n",
       "<title>T</title>\n",
       "<ellipse fill=\"none\" stroke=\"gold\" cx=\"27\" cy=\"-90\" rx=\"27\" ry=\"18\"/>\n",
       "<text text-anchor=\"middle\" x=\"27\" y=\"-86.3\" font-family=\"Times,serif\" font-size=\"14.00\">T</text>\n",
       "</g>\n",
       "<!-- Y -->\n",
       "<g id=\"node2\" class=\"node\">\n",
       "<title>Y</title>\n",
       "<ellipse fill=\"none\" stroke=\"black\" cx=\"135\" cy=\"-18\" rx=\"27\" ry=\"18\"/>\n",
       "<text text-anchor=\"middle\" x=\"135\" y=\"-14.3\" font-family=\"Times,serif\" font-size=\"14.00\">Y</text>\n",
       "</g>\n",
       "<!-- T&#45;&gt;Y -->\n",
       "<g id=\"edge1\" class=\"edge\">\n",
       "<title>T&#45;&gt;Y</title>\n",
       "<path fill=\"none\" stroke=\"black\" d=\"M45.81,-76.81C63,-65.67 88.62,-49.06 107.99,-36.5\"/>\n",
       "<polygon fill=\"black\" stroke=\"black\" points=\"109.92,-39.43 116.4,-31.05 106.11,-33.56 109.92,-39.43\"/>\n",
       "</g>\n",
       "<!-- x1 -->\n",
       "<g id=\"node3\" class=\"node\">\n",
       "<title>x1</title>\n",
       "<ellipse fill=\"none\" stroke=\"black\" cx=\"99\" cy=\"-90\" rx=\"27\" ry=\"18\"/>\n",
       "<text text-anchor=\"middle\" x=\"99\" y=\"-86.3\" font-family=\"Times,serif\" font-size=\"14.00\">x1</text>\n",
       "</g>\n",
       "<!-- x1&#45;&gt;Y -->\n",
       "<g id=\"edge2\" class=\"edge\">\n",
       "<title>x1&#45;&gt;Y</title>\n",
       "<path fill=\"none\" stroke=\"black\" d=\"M107.35,-72.76C111.71,-64.28 117.15,-53.71 122.04,-44.2\"/>\n",
       "<polygon fill=\"black\" stroke=\"black\" points=\"125.23,-45.64 126.7,-35.15 119.01,-42.44 125.23,-45.64\"/>\n",
       "</g>\n",
       "<!-- x2 -->\n",
       "<g id=\"node4\" class=\"node\">\n",
       "<title>x2</title>\n",
       "<ellipse fill=\"none\" stroke=\"black\" cx=\"171\" cy=\"-90\" rx=\"27\" ry=\"18\"/>\n",
       "<text text-anchor=\"middle\" x=\"171\" y=\"-86.3\" font-family=\"Times,serif\" font-size=\"14.00\">x2</text>\n",
       "</g>\n",
       "<!-- x2&#45;&gt;Y -->\n",
       "<g id=\"edge3\" class=\"edge\">\n",
       "<title>x2&#45;&gt;Y</title>\n",
       "<path fill=\"none\" stroke=\"black\" d=\"M162.65,-72.76C158.29,-64.28 152.85,-53.71 147.96,-44.2\"/>\n",
       "<polygon fill=\"black\" stroke=\"black\" points=\"150.99,-42.44 143.3,-35.15 144.77,-45.64 150.99,-42.44\"/>\n",
       "</g>\n",
       "<!-- x3 -->\n",
       "<g id=\"node5\" class=\"node\">\n",
       "<title>x3</title>\n",
       "<ellipse fill=\"none\" stroke=\"black\" cx=\"243\" cy=\"-90\" rx=\"27\" ry=\"18\"/>\n",
       "<text text-anchor=\"middle\" x=\"243\" y=\"-86.3\" font-family=\"Times,serif\" font-size=\"14.00\">x3</text>\n",
       "</g>\n",
       "<!-- x3&#45;&gt;Y -->\n",
       "<g id=\"edge4\" class=\"edge\">\n",
       "<title>x3&#45;&gt;Y</title>\n",
       "<path fill=\"none\" stroke=\"black\" d=\"M224.19,-76.81C207,-65.67 181.38,-49.06 162.01,-36.5\"/>\n",
       "<polygon fill=\"black\" stroke=\"black\" points=\"163.89,-33.56 153.6,-31.05 160.08,-39.43 163.89,-33.56\"/>\n",
       "</g>\n",
       "</g>\n",
       "</svg>\n"
      ],
      "text/plain": [
       "<graphviz.graphs.Digraph at 0x7f9e201279d0>"
      ]
     },
     "execution_count": 10,
     "metadata": {},
     "output_type": "execute_result"
    }
   ],
   "source": [
    "g = gr.Digraph()\n",
    "g.edge(\"T\", \"Y\"),g.node(\"T\", color=\"gold\")\n",
    "g.edge(\"x1\", \"Y\"),g.edge(\"x2\", \"Y\"),g.edge(\"x3\", \"Y\")\n",
    "g"
   ]
  },
  {
   "cell_type": "markdown",
   "id": "dbf95ddc",
   "metadata": {},
   "source": [
    "##### 1.3 Using a Monte Carlo experiment"
   ]
  },
  {
   "cell_type": "markdown",
   "id": "ad4ad969",
   "metadata": {},
   "source": [
    "a. Do not control for any covariates"
   ]
  },
  {
   "cell_type": "code",
   "execution_count": 11,
   "id": "be7ee135",
   "metadata": {},
   "outputs": [
    {
     "name": "stderr",
     "output_type": "stream",
     "text": [
      "100%|██████████| 2000/2000 [00:09<00:00, 200.28it/s]\n",
      "100%|██████████| 2000/2000 [01:27<00:00, 22.93it/s]"
     ]
    },
    {
     "name": "stdout",
     "output_type": "stream",
     "text": [
      "N=100: bias=-0.040909369580773944, RMSE=2.964908904185278, size=0.0505\n",
      "N=1000: bias=-0.06500538194902461, RMSE=0.9724044329497633, size=0.048\n"
     ]
    },
    {
     "name": "stderr",
     "output_type": "stream",
     "text": [
      "\n"
     ]
    }
   ],
   "source": [
    "control_conf=False\n",
    "control_flagX=False\n",
    "control_s=False\n",
    "estDict = {}\n",
    "Nrange = range(2000)\n",
    "for N in [100,1000]:\n",
    "    tauhats,sehats = fn_get_estimate(tau,Nrange,p,corr,conf,sv,control_conf,control_flagX,control_s)\n",
    "    estDict[N] = {\n",
    "        'tauhat':np.array(tauhats).reshape([len(tauhats),1]),\n",
    "        'sehat':np.array(sehats).reshape([len(sehats),1])\n",
    "    }\n",
    "\n",
    "tau0 = tau*np.ones([len(Nrange),1])\n",
    "for N, results in estDict.items():\n",
    "    (bias,rmse,size) = fn_bias_rmse_size(tau0,results['tauhat'],\n",
    "                                         results['sehat'])\n",
    "    print(f'N={N}: bias={bias}, RMSE={rmse}, size={size}')"
   ]
  },
  {
   "cell_type": "markdown",
   "id": "bddad5ac",
   "metadata": {},
   "source": [
    "b. Control for all the covariates that affect the outcome"
   ]
  },
  {
   "cell_type": "code",
   "execution_count": 12,
   "id": "499cebd3",
   "metadata": {},
   "outputs": [
    {
     "name": "stderr",
     "output_type": "stream",
     "text": [
      "100%|██████████| 2000/2000 [00:09<00:00, 211.99it/s]\n",
      "100%|██████████| 2000/2000 [01:28<00:00, 22.58it/s]"
     ]
    },
    {
     "name": "stdout",
     "output_type": "stream",
     "text": [
      "N=100: bias=0.0012957980509062399, RMSE=0.14498675404938424, size=0.063\n",
      "N=1000: bias=0.00024020785406806344, RMSE=0.04463797527854177, size=0.0465\n"
     ]
    },
    {
     "name": "stderr",
     "output_type": "stream",
     "text": [
      "\n"
     ]
    }
   ],
   "source": [
    "control_conf=False\n",
    "control_flagX=True\n",
    "control_sv=False\n",
    "estDict = {}\n",
    "Nrange = range(2000)\n",
    "for N in [100,1000]:\n",
    "    tauhats,sehats = fn_get_estimate(tau,Nrange,p,corr,conf,sv,control_conf,control_flagX,control_s)\n",
    "    estDict[N] = {\n",
    "        'tauhat':np.array(tauhats).reshape([len(tauhats),1]),\n",
    "        'sehat':np.array(sehats).reshape([len(sehats),1])\n",
    "    }\n",
    "\n",
    "tau0 = tau*np.ones([len(Nrange),1])\n",
    "for N, results in estDict.items():\n",
    "    (bias,rmse,size) = fn_bias_rmse_size(tau0,results['tauhat'],\n",
    "                                         results['sehat'])\n",
    "    print(f'N={N}: bias={bias}, RMSE={rmse}, size={size}')"
   ]
  },
  {
   "cell_type": "markdown",
   "id": "7a5d4c99",
   "metadata": {},
   "source": [
    "##### 1.4 Give an example of a real-life situation that might be consistent with the DGP."
   ]
  },
  {
   "cell_type": "markdown",
   "id": "d0610dd3",
   "metadata": {},
   "source": [
    "### If we want to estimate the effects of products' supply or demand on the price, the products quality, the substitued products will also make an impact on the price."
   ]
  },
  {
   "cell_type": "markdown",
   "id": "da2bc30d",
   "metadata": {},
   "source": [
    "## 2. Simulate a DGP with a confounder\n",
    "\n",
    "#### $y_i = \\tau*T_i+\\beta'*X_i+\\alpha'*C_i+e_i$"
   ]
  },
  {
   "cell_type": "markdown",
   "id": "0eb4665c",
   "metadata": {},
   "source": [
    "##### 2.1 Simulate a DGP"
   ]
  },
  {
   "cell_type": "code",
   "execution_count": 13,
   "id": "3c489426",
   "metadata": {},
   "outputs": [
    {
     "data": {
      "text/html": [
       "<div>\n",
       "<style scoped>\n",
       "    .dataframe tbody tr th:only-of-type {\n",
       "        vertical-align: middle;\n",
       "    }\n",
       "\n",
       "    .dataframe tbody tr th {\n",
       "        vertical-align: top;\n",
       "    }\n",
       "\n",
       "    .dataframe thead th {\n",
       "        text-align: right;\n",
       "    }\n",
       "</style>\n",
       "<table border=\"1\" class=\"dataframe\">\n",
       "  <thead>\n",
       "    <tr style=\"text-align: right;\">\n",
       "      <th></th>\n",
       "      <th>Y</th>\n",
       "      <th>T</th>\n",
       "      <th>x1</th>\n",
       "      <th>x2</th>\n",
       "      <th>x3</th>\n",
       "      <th>C</th>\n",
       "    </tr>\n",
       "  </thead>\n",
       "  <tbody>\n",
       "    <tr>\n",
       "      <th>0</th>\n",
       "      <td>-10.140324</td>\n",
       "      <td>0.0</td>\n",
       "      <td>-0.868058</td>\n",
       "      <td>-0.975060</td>\n",
       "      <td>0.282701</td>\n",
       "      <td>5.126124</td>\n",
       "    </tr>\n",
       "    <tr>\n",
       "      <th>1</th>\n",
       "      <td>8.842112</td>\n",
       "      <td>0.0</td>\n",
       "      <td>-0.077431</td>\n",
       "      <td>0.560223</td>\n",
       "      <td>0.413887</td>\n",
       "      <td>4.457124</td>\n",
       "    </tr>\n",
       "    <tr>\n",
       "      <th>2</th>\n",
       "      <td>31.554503</td>\n",
       "      <td>0.0</td>\n",
       "      <td>2.801560</td>\n",
       "      <td>1.753165</td>\n",
       "      <td>1.707195</td>\n",
       "      <td>5.233431</td>\n",
       "    </tr>\n",
       "    <tr>\n",
       "      <th>3</th>\n",
       "      <td>-7.735769</td>\n",
       "      <td>0.0</td>\n",
       "      <td>-0.962272</td>\n",
       "      <td>-0.901233</td>\n",
       "      <td>0.689423</td>\n",
       "      <td>6.517585</td>\n",
       "    </tr>\n",
       "    <tr>\n",
       "      <th>4</th>\n",
       "      <td>27.226355</td>\n",
       "      <td>1.0</td>\n",
       "      <td>2.462362</td>\n",
       "      <td>1.101085</td>\n",
       "      <td>0.607713</td>\n",
       "      <td>5.145643</td>\n",
       "    </tr>\n",
       "    <tr>\n",
       "      <th>...</th>\n",
       "      <td>...</td>\n",
       "      <td>...</td>\n",
       "      <td>...</td>\n",
       "      <td>...</td>\n",
       "      <td>...</td>\n",
       "      <td>...</td>\n",
       "    </tr>\n",
       "    <tr>\n",
       "      <th>995</th>\n",
       "      <td>22.412609</td>\n",
       "      <td>0.0</td>\n",
       "      <td>0.063677</td>\n",
       "      <td>2.003209</td>\n",
       "      <td>-0.124146</td>\n",
       "      <td>4.472489</td>\n",
       "    </tr>\n",
       "    <tr>\n",
       "      <th>996</th>\n",
       "      <td>12.001794</td>\n",
       "      <td>1.0</td>\n",
       "      <td>0.106436</td>\n",
       "      <td>0.307966</td>\n",
       "      <td>1.304395</td>\n",
       "      <td>4.831733</td>\n",
       "    </tr>\n",
       "    <tr>\n",
       "      <th>997</th>\n",
       "      <td>-2.718274</td>\n",
       "      <td>1.0</td>\n",
       "      <td>0.392765</td>\n",
       "      <td>-0.865853</td>\n",
       "      <td>-0.254300</td>\n",
       "      <td>0.905682</td>\n",
       "    </tr>\n",
       "    <tr>\n",
       "      <th>998</th>\n",
       "      <td>6.872969</td>\n",
       "      <td>1.0</td>\n",
       "      <td>1.319173</td>\n",
       "      <td>-0.438139</td>\n",
       "      <td>-0.332230</td>\n",
       "      <td>5.439883</td>\n",
       "    </tr>\n",
       "    <tr>\n",
       "      <th>999</th>\n",
       "      <td>-9.125883</td>\n",
       "      <td>1.0</td>\n",
       "      <td>-1.169425</td>\n",
       "      <td>-1.242647</td>\n",
       "      <td>-1.644081</td>\n",
       "      <td>5.228891</td>\n",
       "    </tr>\n",
       "  </tbody>\n",
       "</table>\n",
       "<p>1000 rows × 6 columns</p>\n",
       "</div>"
      ],
      "text/plain": [
       "             Y    T        x1        x2        x3         C\n",
       "0   -10.140324  0.0 -0.868058 -0.975060  0.282701  5.126124\n",
       "1     8.842112  0.0 -0.077431  0.560223  0.413887  4.457124\n",
       "2    31.554503  0.0  2.801560  1.753165  1.707195  5.233431\n",
       "3    -7.735769  0.0 -0.962272 -0.901233  0.689423  6.517585\n",
       "4    27.226355  1.0  2.462362  1.101085  0.607713  5.145643\n",
       "..         ...  ...       ...       ...       ...       ...\n",
       "995  22.412609  0.0  0.063677  2.003209 -0.124146  4.472489\n",
       "996  12.001794  1.0  0.106436  0.307966  1.304395  4.831733\n",
       "997  -2.718274  1.0  0.392765 -0.865853 -0.254300  0.905682\n",
       "998   6.872969  1.0  1.319173 -0.438139 -0.332230  5.439883\n",
       "999  -9.125883  1.0 -1.169425 -1.242647 -1.644081  5.228891\n",
       "\n",
       "[1000 rows x 6 columns]"
      ]
     },
     "execution_count": 13,
     "metadata": {},
     "output_type": "execute_result"
    }
   ],
   "source": [
    "tau = 4\n",
    "corr = .4\n",
    "conf = True\n",
    "flagX = True\n",
    "sv = False\n",
    "p = 3\n",
    "N = 1000\n",
    "(Yab,T,X,C) = fn_generate_data(tau,N,p,corr,conf,sv)\n",
    "data2 = np.concatenate((Yab,T,X,C),axis=1)\n",
    "Data2 = pd.DataFrame(np.array(data2), columns=['Y','T','x1','x2','x3','C'])\n",
    "Data2"
   ]
  },
  {
   "cell_type": "markdown",
   "id": "2b126262",
   "metadata": {},
   "source": [
    "##### 2.2 Illustrate the DGP with a DAG"
   ]
  },
  {
   "cell_type": "code",
   "execution_count": 14,
   "id": "85b50089",
   "metadata": {},
   "outputs": [
    {
     "data": {
      "image/svg+xml": [
       "<?xml version=\"1.0\" encoding=\"UTF-8\" standalone=\"no\"?>\n",
       "<!DOCTYPE svg PUBLIC \"-//W3C//DTD SVG 1.1//EN\"\n",
       " \"http://www.w3.org/Graphics/SVG/1.1/DTD/svg11.dtd\">\n",
       "<!-- Generated by graphviz version 3.0.0 (20220226.1711)\n",
       " -->\n",
       "<!-- Pages: 1 -->\n",
       "<svg width=\"316pt\" height=\"188pt\"\n",
       " viewBox=\"0.00 0.00 316.00 188.00\" xmlns=\"http://www.w3.org/2000/svg\" xmlns:xlink=\"http://www.w3.org/1999/xlink\">\n",
       "<g id=\"graph0\" class=\"graph\" transform=\"scale(1 1) rotate(0) translate(4 184)\">\n",
       "<polygon fill=\"white\" stroke=\"transparent\" points=\"-4,4 -4,-184 312,-184 312,4 -4,4\"/>\n",
       "<!-- T -->\n",
       "<g id=\"node1\" class=\"node\">\n",
       "<title>T</title>\n",
       "<ellipse fill=\"none\" stroke=\"gold\" cx=\"27\" cy=\"-90\" rx=\"27\" ry=\"18\"/>\n",
       "<text text-anchor=\"middle\" x=\"27\" y=\"-86.3\" font-family=\"Times,serif\" font-size=\"14.00\">T</text>\n",
       "</g>\n",
       "<!-- Y -->\n",
       "<g id=\"node2\" class=\"node\">\n",
       "<title>Y</title>\n",
       "<ellipse fill=\"none\" stroke=\"black\" cx=\"137\" cy=\"-18\" rx=\"27\" ry=\"18\"/>\n",
       "<text text-anchor=\"middle\" x=\"137\" y=\"-14.3\" font-family=\"Times,serif\" font-size=\"14.00\">Y</text>\n",
       "</g>\n",
       "<!-- T&#45;&gt;Y -->\n",
       "<g id=\"edge1\" class=\"edge\">\n",
       "<title>T&#45;&gt;Y</title>\n",
       "<path fill=\"none\" stroke=\"black\" d=\"M46.16,-76.81C63.67,-65.67 89.76,-49.06 109.49,-36.5\"/>\n",
       "<polygon fill=\"black\" stroke=\"black\" points=\"111.5,-39.37 118.06,-31.05 107.74,-33.47 111.5,-39.37\"/>\n",
       "</g>\n",
       "<!-- C -->\n",
       "<g id=\"node3\" class=\"node\">\n",
       "<title>C</title>\n",
       "<ellipse fill=\"none\" stroke=\"black\" cx=\"54\" cy=\"-162\" rx=\"27\" ry=\"18\"/>\n",
       "<text text-anchor=\"middle\" x=\"54\" y=\"-158.3\" font-family=\"Times,serif\" font-size=\"14.00\">C</text>\n",
       "</g>\n",
       "<!-- C&#45;&gt;T -->\n",
       "<g id=\"edge2\" class=\"edge\">\n",
       "<title>C&#45;&gt;T</title>\n",
       "<path fill=\"none\" stroke=\"black\" d=\"M47.6,-144.41C44.49,-136.34 40.67,-126.43 37.17,-117.35\"/>\n",
       "<polygon fill=\"black\" stroke=\"black\" points=\"40.4,-116.03 33.54,-107.96 33.87,-118.55 40.4,-116.03\"/>\n",
       "</g>\n",
       "<!-- C&#45;&gt;Y -->\n",
       "<g id=\"edge3\" class=\"edge\">\n",
       "<title>C&#45;&gt;Y</title>\n",
       "<path fill=\"none\" stroke=\"black\" d=\"M61.96,-144.62C70.91,-126.54 86.15,-96.71 101,-72 106.85,-62.28 113.75,-51.89 119.94,-42.91\"/>\n",
       "<polygon fill=\"black\" stroke=\"black\" points=\"122.97,-44.68 125.82,-34.47 117.23,-40.67 122.97,-44.68\"/>\n",
       "</g>\n",
       "<!-- x1 -->\n",
       "<g id=\"node4\" class=\"node\">\n",
       "<title>x1</title>\n",
       "<ellipse fill=\"none\" stroke=\"black\" cx=\"137\" cy=\"-90\" rx=\"27\" ry=\"18\"/>\n",
       "<text text-anchor=\"middle\" x=\"137\" y=\"-86.3\" font-family=\"Times,serif\" font-size=\"14.00\">x1</text>\n",
       "</g>\n",
       "<!-- x1&#45;&gt;Y -->\n",
       "<g id=\"edge4\" class=\"edge\">\n",
       "<title>x1&#45;&gt;Y</title>\n",
       "<path fill=\"none\" stroke=\"black\" d=\"M137,-71.7C137,-63.98 137,-54.71 137,-46.11\"/>\n",
       "<polygon fill=\"black\" stroke=\"black\" points=\"140.5,-46.1 137,-36.1 133.5,-46.1 140.5,-46.1\"/>\n",
       "</g>\n",
       "<!-- x2 -->\n",
       "<g id=\"node5\" class=\"node\">\n",
       "<title>x2</title>\n",
       "<ellipse fill=\"none\" stroke=\"black\" cx=\"209\" cy=\"-90\" rx=\"27\" ry=\"18\"/>\n",
       "<text text-anchor=\"middle\" x=\"209\" y=\"-86.3\" font-family=\"Times,serif\" font-size=\"14.00\">x2</text>\n",
       "</g>\n",
       "<!-- x2&#45;&gt;Y -->\n",
       "<g id=\"edge5\" class=\"edge\">\n",
       "<title>x2&#45;&gt;Y</title>\n",
       "<path fill=\"none\" stroke=\"black\" d=\"M194.43,-74.83C184.25,-64.94 170.48,-51.55 158.97,-40.36\"/>\n",
       "<polygon fill=\"black\" stroke=\"black\" points=\"161.41,-37.85 151.8,-33.38 156.53,-42.87 161.41,-37.85\"/>\n",
       "</g>\n",
       "<!-- x3 -->\n",
       "<g id=\"node6\" class=\"node\">\n",
       "<title>x3</title>\n",
       "<ellipse fill=\"none\" stroke=\"black\" cx=\"281\" cy=\"-90\" rx=\"27\" ry=\"18\"/>\n",
       "<text text-anchor=\"middle\" x=\"281\" y=\"-86.3\" font-family=\"Times,serif\" font-size=\"14.00\">x3</text>\n",
       "</g>\n",
       "<!-- x3&#45;&gt;Y -->\n",
       "<g id=\"edge6\" class=\"edge\">\n",
       "<title>x3&#45;&gt;Y</title>\n",
       "<path fill=\"none\" stroke=\"black\" d=\"M259.75,-78.67C235.4,-66.83 195.28,-47.33 167.57,-33.86\"/>\n",
       "<polygon fill=\"black\" stroke=\"black\" points=\"168.86,-30.6 158.33,-29.37 165.8,-36.89 168.86,-30.6\"/>\n",
       "</g>\n",
       "</g>\n",
       "</svg>\n"
      ],
      "text/plain": [
       "<graphviz.graphs.Digraph at 0x7f9e201271f0>"
      ]
     },
     "execution_count": 14,
     "metadata": {},
     "output_type": "execute_result"
    }
   ],
   "source": [
    "g = gr.Digraph()\n",
    "g.edge(\"T\", \"Y\"),g.node(\"T\", color=\"gold\")\n",
    "g.edge(\"C\", \"T\"),g.edge(\"C\", \"Y\")\n",
    "g.edge(\"x1\", \"Y\"),g.edge(\"x2\", \"Y\"),g.edge(\"x3\", \"Y\")\n",
    "g"
   ]
  },
  {
   "cell_type": "markdown",
   "id": "9e727029",
   "metadata": {},
   "source": [
    "##### 2.3 Using a Monte Carlo experiment"
   ]
  },
  {
   "cell_type": "markdown",
   "id": "291f94dc",
   "metadata": {},
   "source": [
    "a. Fail to control for the confounder"
   ]
  },
  {
   "cell_type": "code",
   "execution_count": 15,
   "id": "331aa366",
   "metadata": {},
   "outputs": [
    {
     "name": "stderr",
     "output_type": "stream",
     "text": [
      "100%|██████████| 2000/2000 [00:09<00:00, 206.68it/s]\n",
      "100%|██████████| 2000/2000 [01:36<00:00, 20.75it/s]"
     ]
    },
    {
     "name": "stdout",
     "output_type": "stream",
     "text": [
      "N=100: bias=2.500226012813356, RMSE=2.5088307885056405, size=1.0\n",
      "N=1000: bias=2.4991797552288446, RMSE=2.5000281769333186, size=1.0\n"
     ]
    },
    {
     "name": "stderr",
     "output_type": "stream",
     "text": [
      "\n"
     ]
    }
   ],
   "source": [
    "control_conf=False\n",
    "control_flagX=True\n",
    "control_s=False\n",
    "estDict = {}\n",
    "Nrange = range(2000)\n",
    "for N in [100,1000]:\n",
    "    tauhats,sehats = fn_get_estimate(tau,Nrange,p,corr,conf,sv,control_conf,control_flagX,control_s)\n",
    "    estDict[N] = {\n",
    "        'tauhat':np.array(tauhats).reshape([len(tauhats),1]),\n",
    "        'sehat':np.array(sehats).reshape([len(sehats),1])\n",
    "    }\n",
    "\n",
    "tau0 = tau*np.ones([len(Nrange),1])\n",
    "for N, results in estDict.items():\n",
    "    (bias,rmse,size) = fn_bias_rmse_size(tau0,results['tauhat'],\n",
    "                                         results['sehat'])\n",
    "    print(f'N={N}: bias={bias}, RMSE={rmse}, size={size}')"
   ]
  },
  {
   "cell_type": "markdown",
   "id": "b95d4031",
   "metadata": {},
   "source": [
    "b. Do control for the confounder"
   ]
  },
  {
   "cell_type": "code",
   "execution_count": 16,
   "id": "c01fac38",
   "metadata": {},
   "outputs": [
    {
     "name": "stderr",
     "output_type": "stream",
     "text": [
      "100%|██████████| 1000/1000 [00:04<00:00, 207.44it/s]\n",
      "100%|██████████| 1000/1000 [00:46<00:00, 21.73it/s]"
     ]
    },
    {
     "name": "stdout",
     "output_type": "stream",
     "text": [
      "N=100: bias=-0.0038123669324337094, RMSE=0.1862925987368063, size=0.05\n",
      "N=1000: bias=-0.0008611626929361806, RMSE=0.058680393734154984, size=0.048\n"
     ]
    },
    {
     "name": "stderr",
     "output_type": "stream",
     "text": [
      "\n"
     ]
    }
   ],
   "source": [
    "control_conf=True\n",
    "control_flagX=True\n",
    "control_s=False\n",
    "estDict = {}\n",
    "Nrange = range(1000)\n",
    "for N in [100,1000]:\n",
    "    tauhats,sehats = fn_get_estimate(tau,Nrange,p,corr,conf,sv,control_conf,control_flagX,control_s)\n",
    "    estDict[N] = {\n",
    "        'tauhat':np.array(tauhats).reshape([len(tauhats),1]),\n",
    "        'sehat':np.array(sehats).reshape([len(sehats),1])\n",
    "    }\n",
    "\n",
    "tau0 = tau*np.ones([len(Nrange),1])\n",
    "for N, results in estDict.items():\n",
    "    (bias,rmse,size) = fn_bias_rmse_size(tau0,results['tauhat'],\n",
    "                                         results['sehat'])\n",
    "    print(f'N={N}: bias={bias}, RMSE={rmse}, size={size}')"
   ]
  },
  {
   "cell_type": "markdown",
   "id": "74e46925",
   "metadata": {},
   "source": [
    "##### 2.4 Give an example of a real-life situation that might be consistent with the DGP\n"
   ]
  },
  {
   "cell_type": "markdown",
   "id": "16594dae",
   "metadata": {},
   "source": [
    "### If we want to estimate the effect of education on income, the variable IQ not only affects the education but also affects the income, so we need to control it. "
   ]
  },
  {
   "cell_type": "markdown",
   "id": "00aae463",
   "metadata": {},
   "source": [
    "## 3. Simulate a DGP with selection bias into the treatment\n",
    "\n",
    "#### $y_i = \\tau*T_i+\\beta'*X_i+\\alpha'*C_i+e_i$"
   ]
  },
  {
   "cell_type": "markdown",
   "id": "0320a269",
   "metadata": {},
   "source": [
    "##### 3.1 Simulate a DGP"
   ]
  },
  {
   "cell_type": "code",
   "execution_count": 17,
   "id": "e58f1562",
   "metadata": {},
   "outputs": [
    {
     "data": {
      "text/html": [
       "<div>\n",
       "<style scoped>\n",
       "    .dataframe tbody tr th:only-of-type {\n",
       "        vertical-align: middle;\n",
       "    }\n",
       "\n",
       "    .dataframe tbody tr th {\n",
       "        vertical-align: top;\n",
       "    }\n",
       "\n",
       "    .dataframe thead th {\n",
       "        text-align: right;\n",
       "    }\n",
       "</style>\n",
       "<table border=\"1\" class=\"dataframe\">\n",
       "  <thead>\n",
       "    <tr style=\"text-align: right;\">\n",
       "      <th></th>\n",
       "      <th>Y</th>\n",
       "      <th>T</th>\n",
       "      <th>x1</th>\n",
       "      <th>x2</th>\n",
       "      <th>x3</th>\n",
       "      <th>S</th>\n",
       "    </tr>\n",
       "  </thead>\n",
       "  <tbody>\n",
       "    <tr>\n",
       "      <th>0</th>\n",
       "      <td>13.138159</td>\n",
       "      <td>0.0</td>\n",
       "      <td>-0.083689</td>\n",
       "      <td>0.713922</td>\n",
       "      <td>1.834553</td>\n",
       "      <td>0.0</td>\n",
       "    </tr>\n",
       "    <tr>\n",
       "      <th>1</th>\n",
       "      <td>19.586490</td>\n",
       "      <td>1.0</td>\n",
       "      <td>0.354039</td>\n",
       "      <td>0.848232</td>\n",
       "      <td>1.514666</td>\n",
       "      <td>1.0</td>\n",
       "    </tr>\n",
       "    <tr>\n",
       "      <th>2</th>\n",
       "      <td>0.254492</td>\n",
       "      <td>1.0</td>\n",
       "      <td>-0.253937</td>\n",
       "      <td>-0.304467</td>\n",
       "      <td>-0.256958</td>\n",
       "      <td>0.0</td>\n",
       "    </tr>\n",
       "    <tr>\n",
       "      <th>3</th>\n",
       "      <td>-16.456233</td>\n",
       "      <td>0.0</td>\n",
       "      <td>-1.385533</td>\n",
       "      <td>-0.698831</td>\n",
       "      <td>-0.756035</td>\n",
       "      <td>1.0</td>\n",
       "    </tr>\n",
       "    <tr>\n",
       "      <th>4</th>\n",
       "      <td>4.299364</td>\n",
       "      <td>1.0</td>\n",
       "      <td>0.181130</td>\n",
       "      <td>-0.058708</td>\n",
       "      <td>-0.796547</td>\n",
       "      <td>1.0</td>\n",
       "    </tr>\n",
       "    <tr>\n",
       "      <th>...</th>\n",
       "      <td>...</td>\n",
       "      <td>...</td>\n",
       "      <td>...</td>\n",
       "      <td>...</td>\n",
       "      <td>...</td>\n",
       "      <td>...</td>\n",
       "    </tr>\n",
       "    <tr>\n",
       "      <th>995</th>\n",
       "      <td>-10.841713</td>\n",
       "      <td>1.0</td>\n",
       "      <td>-0.243575</td>\n",
       "      <td>-1.622388</td>\n",
       "      <td>-1.058402</td>\n",
       "      <td>1.0</td>\n",
       "    </tr>\n",
       "    <tr>\n",
       "      <th>996</th>\n",
       "      <td>9.432907</td>\n",
       "      <td>1.0</td>\n",
       "      <td>0.513464</td>\n",
       "      <td>0.193306</td>\n",
       "      <td>-0.083700</td>\n",
       "      <td>0.0</td>\n",
       "    </tr>\n",
       "    <tr>\n",
       "      <th>997</th>\n",
       "      <td>15.033052</td>\n",
       "      <td>1.0</td>\n",
       "      <td>0.347757</td>\n",
       "      <td>0.413640</td>\n",
       "      <td>1.290915</td>\n",
       "      <td>0.0</td>\n",
       "    </tr>\n",
       "    <tr>\n",
       "      <th>998</th>\n",
       "      <td>3.382279</td>\n",
       "      <td>0.0</td>\n",
       "      <td>0.590589</td>\n",
       "      <td>0.472126</td>\n",
       "      <td>-0.908249</td>\n",
       "      <td>0.0</td>\n",
       "    </tr>\n",
       "    <tr>\n",
       "      <th>999</th>\n",
       "      <td>12.215302</td>\n",
       "      <td>1.0</td>\n",
       "      <td>0.120901</td>\n",
       "      <td>0.438816</td>\n",
       "      <td>0.184019</td>\n",
       "      <td>1.0</td>\n",
       "    </tr>\n",
       "  </tbody>\n",
       "</table>\n",
       "<p>1000 rows × 6 columns</p>\n",
       "</div>"
      ],
      "text/plain": [
       "             Y    T        x1        x2        x3    S\n",
       "0    13.138159  0.0 -0.083689  0.713922  1.834553  0.0\n",
       "1    19.586490  1.0  0.354039  0.848232  1.514666  1.0\n",
       "2     0.254492  1.0 -0.253937 -0.304467 -0.256958  0.0\n",
       "3   -16.456233  0.0 -1.385533 -0.698831 -0.756035  1.0\n",
       "4     4.299364  1.0  0.181130 -0.058708 -0.796547  1.0\n",
       "..         ...  ...       ...       ...       ...  ...\n",
       "995 -10.841713  1.0 -0.243575 -1.622388 -1.058402  1.0\n",
       "996   9.432907  1.0  0.513464  0.193306 -0.083700  0.0\n",
       "997  15.033052  1.0  0.347757  0.413640  1.290915  0.0\n",
       "998   3.382279  0.0  0.590589  0.472126 -0.908249  0.0\n",
       "999  12.215302  1.0  0.120901  0.438816  0.184019  1.0\n",
       "\n",
       "[1000 rows x 6 columns]"
      ]
     },
     "execution_count": 17,
     "metadata": {},
     "output_type": "execute_result"
    }
   ],
   "source": [
    "tau = 5\n",
    "corr = .5\n",
    "conf = False\n",
    "flagX = True\n",
    "sv = True\n",
    "p = 3\n",
    "N = 1000\n",
    "(Yab,T,X,S) = fn_generate_data(tau,N,p,corr,conf,sv)\n",
    "data3 = np.concatenate((Yab,T,X,S),axis=1)\n",
    "Data3 = pd.DataFrame(np.array(data3), columns=['Y','T','x1','x2','x3','S'])\n",
    "Data3"
   ]
  },
  {
   "cell_type": "markdown",
   "id": "558cf462",
   "metadata": {},
   "source": [
    "##### 3.2 Illustrate the DGP with a DAG"
   ]
  },
  {
   "cell_type": "code",
   "execution_count": 18,
   "id": "7d4e22e5",
   "metadata": {},
   "outputs": [
    {
     "data": {
      "image/svg+xml": [
       "<?xml version=\"1.0\" encoding=\"UTF-8\" standalone=\"no\"?>\n",
       "<!DOCTYPE svg PUBLIC \"-//W3C//DTD SVG 1.1//EN\"\n",
       " \"http://www.w3.org/Graphics/SVG/1.1/DTD/svg11.dtd\">\n",
       "<!-- Generated by graphviz version 3.0.0 (20220226.1711)\n",
       " -->\n",
       "<!-- Pages: 1 -->\n",
       "<svg width=\"306pt\" height=\"188pt\"\n",
       " viewBox=\"0.00 0.00 306.00 188.00\" xmlns=\"http://www.w3.org/2000/svg\" xmlns:xlink=\"http://www.w3.org/1999/xlink\">\n",
       "<g id=\"graph0\" class=\"graph\" transform=\"scale(1 1) rotate(0) translate(4 184)\">\n",
       "<polygon fill=\"white\" stroke=\"transparent\" points=\"-4,4 -4,-184 302,-184 302,4 -4,4\"/>\n",
       "<!-- T -->\n",
       "<g id=\"node1\" class=\"node\">\n",
       "<title>T</title>\n",
       "<ellipse fill=\"none\" stroke=\"gold\" cx=\"27\" cy=\"-162\" rx=\"27\" ry=\"18\"/>\n",
       "<text text-anchor=\"middle\" x=\"27\" y=\"-158.3\" font-family=\"Times,serif\" font-size=\"14.00\">T</text>\n",
       "</g>\n",
       "<!-- Y -->\n",
       "<g id=\"node2\" class=\"node\">\n",
       "<title>Y</title>\n",
       "<ellipse fill=\"none\" stroke=\"black\" cx=\"127\" cy=\"-18\" rx=\"27\" ry=\"18\"/>\n",
       "<text text-anchor=\"middle\" x=\"127\" y=\"-14.3\" font-family=\"Times,serif\" font-size=\"14.00\">Y</text>\n",
       "</g>\n",
       "<!-- T&#45;&gt;Y -->\n",
       "<g id=\"edge1\" class=\"edge\">\n",
       "<title>T&#45;&gt;Y</title>\n",
       "<path fill=\"none\" stroke=\"black\" d=\"M19.93,-144.52C12.97,-125.54 5.22,-94.12 19,-72 34.73,-46.76 66.37,-33.2 91.36,-26.14\"/>\n",
       "<polygon fill=\"black\" stroke=\"black\" points=\"92.45,-29.47 101.25,-23.57 90.69,-22.7 92.45,-29.47\"/>\n",
       "</g>\n",
       "<!-- S -->\n",
       "<g id=\"node3\" class=\"node\">\n",
       "<title>S</title>\n",
       "<ellipse fill=\"none\" stroke=\"black\" cx=\"55\" cy=\"-90\" rx=\"27\" ry=\"18\"/>\n",
       "<text text-anchor=\"middle\" x=\"55\" y=\"-86.3\" font-family=\"Times,serif\" font-size=\"14.00\">S</text>\n",
       "</g>\n",
       "<!-- T&#45;&gt;S -->\n",
       "<g id=\"edge2\" class=\"edge\">\n",
       "<title>T&#45;&gt;S</title>\n",
       "<path fill=\"none\" stroke=\"black\" d=\"M33.64,-144.41C36.91,-136.22 40.94,-126.14 44.62,-116.95\"/>\n",
       "<polygon fill=\"black\" stroke=\"black\" points=\"47.95,-118.05 48.41,-107.47 41.45,-115.45 47.95,-118.05\"/>\n",
       "</g>\n",
       "<!-- S&#45;&gt;Y -->\n",
       "<g id=\"edge3\" class=\"edge\">\n",
       "<title>S&#45;&gt;Y</title>\n",
       "<path fill=\"none\" stroke=\"black\" d=\"M69.57,-74.83C79.75,-64.94 93.52,-51.55 105.03,-40.36\"/>\n",
       "<polygon fill=\"black\" stroke=\"black\" points=\"107.47,-42.87 112.2,-33.38 102.59,-37.85 107.47,-42.87\"/>\n",
       "</g>\n",
       "<!-- x1 -->\n",
       "<g id=\"node4\" class=\"node\">\n",
       "<title>x1</title>\n",
       "<ellipse fill=\"none\" stroke=\"black\" cx=\"127\" cy=\"-90\" rx=\"27\" ry=\"18\"/>\n",
       "<text text-anchor=\"middle\" x=\"127\" y=\"-86.3\" font-family=\"Times,serif\" font-size=\"14.00\">x1</text>\n",
       "</g>\n",
       "<!-- x1&#45;&gt;Y -->\n",
       "<g id=\"edge4\" class=\"edge\">\n",
       "<title>x1&#45;&gt;Y</title>\n",
       "<path fill=\"none\" stroke=\"black\" d=\"M127,-71.7C127,-63.98 127,-54.71 127,-46.11\"/>\n",
       "<polygon fill=\"black\" stroke=\"black\" points=\"130.5,-46.1 127,-36.1 123.5,-46.1 130.5,-46.1\"/>\n",
       "</g>\n",
       "<!-- x2 -->\n",
       "<g id=\"node5\" class=\"node\">\n",
       "<title>x2</title>\n",
       "<ellipse fill=\"none\" stroke=\"black\" cx=\"199\" cy=\"-90\" rx=\"27\" ry=\"18\"/>\n",
       "<text text-anchor=\"middle\" x=\"199\" y=\"-86.3\" font-family=\"Times,serif\" font-size=\"14.00\">x2</text>\n",
       "</g>\n",
       "<!-- x2&#45;&gt;Y -->\n",
       "<g id=\"edge5\" class=\"edge\">\n",
       "<title>x2&#45;&gt;Y</title>\n",
       "<path fill=\"none\" stroke=\"black\" d=\"M184.43,-74.83C174.25,-64.94 160.48,-51.55 148.97,-40.36\"/>\n",
       "<polygon fill=\"black\" stroke=\"black\" points=\"151.41,-37.85 141.8,-33.38 146.53,-42.87 151.41,-37.85\"/>\n",
       "</g>\n",
       "<!-- x3 -->\n",
       "<g id=\"node6\" class=\"node\">\n",
       "<title>x3</title>\n",
       "<ellipse fill=\"none\" stroke=\"black\" cx=\"271\" cy=\"-90\" rx=\"27\" ry=\"18\"/>\n",
       "<text text-anchor=\"middle\" x=\"271\" y=\"-86.3\" font-family=\"Times,serif\" font-size=\"14.00\">x3</text>\n",
       "</g>\n",
       "<!-- x3&#45;&gt;Y -->\n",
       "<g id=\"edge6\" class=\"edge\">\n",
       "<title>x3&#45;&gt;Y</title>\n",
       "<path fill=\"none\" stroke=\"black\" d=\"M249.75,-78.67C225.4,-66.83 185.28,-47.33 157.57,-33.86\"/>\n",
       "<polygon fill=\"black\" stroke=\"black\" points=\"158.86,-30.6 148.33,-29.37 155.8,-36.89 158.86,-30.6\"/>\n",
       "</g>\n",
       "</g>\n",
       "</svg>\n"
      ],
      "text/plain": [
       "<graphviz.graphs.Digraph at 0x7f9e20127a60>"
      ]
     },
     "execution_count": 18,
     "metadata": {},
     "output_type": "execute_result"
    }
   ],
   "source": [
    "g = gr.Digraph()\n",
    "g.edge(\"T\", \"Y\"),g.node(\"T\", color=\"gold\")\n",
    "g.edge(\"T\", \"S\"),g.edge(\"S\", \"Y\")\n",
    "g.edge(\"x1\", \"Y\"),g.edge(\"x2\", \"Y\"),g.edge(\"x3\", \"Y\")\n",
    "g"
   ]
  },
  {
   "cell_type": "markdown",
   "id": "78283f8e",
   "metadata": {},
   "source": [
    "##### 3.3 Using a Monte Carlo experiment"
   ]
  },
  {
   "cell_type": "markdown",
   "id": "9ebdeefc",
   "metadata": {},
   "source": [
    "a. Control for the variable in between the path from cause to effect"
   ]
  },
  {
   "cell_type": "code",
   "execution_count": 19,
   "id": "bc6ecdd9",
   "metadata": {},
   "outputs": [
    {
     "name": "stderr",
     "output_type": "stream",
     "text": [
      "100%|██████████| 2000/2000 [00:09<00:00, 211.39it/s]\n",
      "100%|██████████| 2000/2000 [01:27<00:00, 22.75it/s]"
     ]
    },
    {
     "name": "stdout",
     "output_type": "stream",
     "text": [
      "N=100: bias=-0.6005018663047108, RMSE=0.6246712243532273, size=0.9225\n",
      "N=1000: bias=-0.5992596937961571, RMSE=0.6018084972364307, size=1.0\n"
     ]
    },
    {
     "name": "stderr",
     "output_type": "stream",
     "text": [
      "\n"
     ]
    }
   ],
   "source": [
    "control_conf=False\n",
    "control_flagX=True\n",
    "control_s=True\n",
    "estDict = {}\n",
    "Nrange = range(2000)\n",
    "for N in [100,1000]:\n",
    "    tauhats,sehats = fn_get_estimate(tau,Nrange,p,corr,conf,sv,control_conf,control_flagX,control_s)\n",
    "    estDict[N] = {\n",
    "        'tauhat':np.array(tauhats).reshape([len(tauhats),1]),\n",
    "        'sehat':np.array(sehats).reshape([len(sehats),1])\n",
    "    }\n",
    "\n",
    "tau0 = (tau+0.6)*np.ones([len(Nrange),1]) # 0.6 is the probability of S get 1\n",
    "for N, results in estDict.items():\n",
    "    (bias,rmse,size) = fn_bias_rmse_size(tau0,results['tauhat'],\n",
    "                                         results['sehat'])\n",
    "    print(f'N={N}: bias={bias}, RMSE={rmse}, size={size}')"
   ]
  },
  {
   "cell_type": "markdown",
   "id": "84d6a0ff",
   "metadata": {},
   "source": [
    "b. Do not control for the variable in between the path from cause to effect"
   ]
  },
  {
   "cell_type": "code",
   "execution_count": 20,
   "id": "d79d9f17",
   "metadata": {},
   "outputs": [
    {
     "name": "stderr",
     "output_type": "stream",
     "text": [
      "100%|██████████| 2000/2000 [00:09<00:00, 212.49it/s]\n",
      "100%|██████████| 2000/2000 [01:29<00:00, 22.37it/s]"
     ]
    },
    {
     "name": "stdout",
     "output_type": "stream",
     "text": [
      "N=100: bias=-0.004676442715982141, RMSE=0.1643700057404396, size=0.064\n",
      "N=1000: bias=0.0005542085198565627, RMSE=0.04935351947152827, size=0.048\n"
     ]
    },
    {
     "name": "stderr",
     "output_type": "stream",
     "text": [
      "\n"
     ]
    }
   ],
   "source": [
    "control_conf=False\n",
    "control_flagX=True\n",
    "control_s=False\n",
    "estDict = {}\n",
    "Nrange = range(2000)\n",
    "for N in [100,1000]:\n",
    "    tauhats,sehats = fn_get_estimate(tau,Nrange,p,corr,conf,sv,control_conf,control_flagX,control_s)\n",
    "    estDict[N] = {\n",
    "        'tauhat':np.array(tauhats).reshape([len(tauhats),1]),\n",
    "        'sehat':np.array(sehats).reshape([len(sehats),1])\n",
    "    }\n",
    "\n",
    "tau0 = (tau+0.6)*np.ones([len(Nrange),1])\n",
    "for N, results in estDict.items():\n",
    "    (bias,rmse,size) = fn_bias_rmse_size(tau0,results['tauhat'],\n",
    "                                         results['sehat'])\n",
    "    print(f'N={N}: bias={bias}, RMSE={rmse}, size={size}')"
   ]
  },
  {
   "cell_type": "markdown",
   "id": "440e6c1f",
   "metadata": {},
   "source": [
    "##### 3.4 Give an example of a real-life situation that might be consistent with the DGP"
   ]
  },
  {
   "cell_type": "markdown",
   "id": "a60be768",
   "metadata": {},
   "source": [
    "### Take email as an example, we discuss the effect of email on buying goods, when receiving the email, consumers will more likely to open the link and buying goods. If controlling the possibility of opening the link, then we cannot estimate the effect."
   ]
  },
  {
   "cell_type": "code",
   "execution_count": null,
   "id": "34cd9443",
   "metadata": {},
   "outputs": [],
   "source": []
  }
 ],
 "metadata": {
  "kernelspec": {
   "display_name": "Python 3 (ipykernel)",
   "language": "python",
   "name": "python3"
  },
  "language_info": {
   "codemirror_mode": {
    "name": "ipython",
    "version": 3
   },
   "file_extension": ".py",
   "mimetype": "text/x-python",
   "name": "python",
   "nbconvert_exporter": "python",
   "pygments_lexer": "ipython3",
   "version": "3.9.7"
  }
 },
 "nbformat": 4,
 "nbformat_minor": 5
}
